{
 "cells": [
  {
   "cell_type": "code",
   "execution_count": 1,
   "id": "e65c1c61",
   "metadata": {},
   "outputs": [
    {
     "data": {
      "text/html": [
       "<div>\n",
       "<style scoped>\n",
       "    .dataframe tbody tr th:only-of-type {\n",
       "        vertical-align: middle;\n",
       "    }\n",
       "\n",
       "    .dataframe tbody tr th {\n",
       "        vertical-align: top;\n",
       "    }\n",
       "\n",
       "    .dataframe thead th {\n",
       "        text-align: right;\n",
       "    }\n",
       "</style>\n",
       "<table border=\"1\" class=\"dataframe\">\n",
       "  <thead>\n",
       "    <tr style=\"text-align: right;\">\n",
       "      <th></th>\n",
       "      <th>Unnamed: 0</th>\n",
       "      <th>link</th>\n",
       "      <th>artist</th>\n",
       "      <th>song_name</th>\n",
       "      <th>lyrics</th>\n",
       "    </tr>\n",
       "  </thead>\n",
       "  <tbody>\n",
       "    <tr>\n",
       "      <th>0</th>\n",
       "      <td>0</td>\n",
       "      <td>../lyrics/backstreetboys/climbingthewalls.html</td>\n",
       "      <td>Backstreet Boys Lyrics</td>\n",
       "      <td>Climbing The Walls</td>\n",
       "      <td>\\n\\n[Brian:]\\nClose your eyes, make a wish\\nTh...</td>\n",
       "    </tr>\n",
       "    <tr>\n",
       "      <th>1</th>\n",
       "      <td>1</td>\n",
       "      <td>../lyrics/westlife/howtobreakaheart.html</td>\n",
       "      <td>Westlife Lyrics</td>\n",
       "      <td>How To Break A Heart</td>\n",
       "      <td>\\n\\r\\nSince you're not worth my love\\nI haven'...</td>\n",
       "    </tr>\n",
       "    <tr>\n",
       "      <th>2</th>\n",
       "      <td>2</td>\n",
       "      <td>../lyrics/deanmartin/iwill.html</td>\n",
       "      <td>Dean Martin Lyrics</td>\n",
       "      <td>I Will</td>\n",
       "      <td>\\n\\r\\nI don't want to be the one to say I'm go...</td>\n",
       "    </tr>\n",
       "    <tr>\n",
       "      <th>3</th>\n",
       "      <td>3</td>\n",
       "      <td>../lyrics/deanmartin/tellyourmotherhello.html</td>\n",
       "      <td>Dean Martin Lyrics</td>\n",
       "      <td>Tell Your Mother Hello</td>\n",
       "      <td>\\n\\r\\nSure I loved the dear money that shines ...</td>\n",
       "    </tr>\n",
       "    <tr>\n",
       "      <th>4</th>\n",
       "      <td>4</td>\n",
       "      <td>../lyrics/deanmartin/behonestwithme.html</td>\n",
       "      <td>Dean Martin Lyrics</td>\n",
       "      <td>Be Honest With Me</td>\n",
       "      <td>\\n\\r\\nBe honest with me dear whatever you do\\n...</td>\n",
       "    </tr>\n",
       "  </tbody>\n",
       "</table>\n",
       "</div>"
      ],
      "text/plain": [
       "   Unnamed: 0                                            link  \\\n",
       "0           0  ../lyrics/backstreetboys/climbingthewalls.html   \n",
       "1           1        ../lyrics/westlife/howtobreakaheart.html   \n",
       "2           2                 ../lyrics/deanmartin/iwill.html   \n",
       "3           3   ../lyrics/deanmartin/tellyourmotherhello.html   \n",
       "4           4        ../lyrics/deanmartin/behonestwithme.html   \n",
       "\n",
       "                   artist               song_name  \\\n",
       "0  Backstreet Boys Lyrics      Climbing The Walls   \n",
       "1         Westlife Lyrics    How To Break A Heart   \n",
       "2      Dean Martin Lyrics                  I Will   \n",
       "3      Dean Martin Lyrics  Tell Your Mother Hello   \n",
       "4      Dean Martin Lyrics       Be Honest With Me   \n",
       "\n",
       "                                              lyrics  \n",
       "0  \\n\\n[Brian:]\\nClose your eyes, make a wish\\nTh...  \n",
       "1  \\n\\r\\nSince you're not worth my love\\nI haven'...  \n",
       "2  \\n\\r\\nI don't want to be the one to say I'm go...  \n",
       "3  \\n\\r\\nSure I loved the dear money that shines ...  \n",
       "4  \\n\\r\\nBe honest with me dear whatever you do\\n...  "
      ]
     },
     "execution_count": 1,
     "metadata": {},
     "output_type": "execute_result"
    }
   ],
   "source": [
    "import pandas as pd\n",
    "\n",
    "df_raw = pd.read_csv('../scrapping/lyrics.csv', index_col=False)\n",
    "\n",
    "df_raw.head()"
   ]
  },
  {
   "cell_type": "code",
   "execution_count": 7,
   "id": "fbe656e7",
   "metadata": {},
   "outputs": [
    {
     "data": {
      "text/html": [
       "<div>\n",
       "<style scoped>\n",
       "    .dataframe tbody tr th:only-of-type {\n",
       "        vertical-align: middle;\n",
       "    }\n",
       "\n",
       "    .dataframe tbody tr th {\n",
       "        vertical-align: top;\n",
       "    }\n",
       "\n",
       "    .dataframe thead th {\n",
       "        text-align: right;\n",
       "    }\n",
       "</style>\n",
       "<table border=\"1\" class=\"dataframe\">\n",
       "  <thead>\n",
       "    <tr style=\"text-align: right;\">\n",
       "      <th></th>\n",
       "      <th>lyrics</th>\n",
       "    </tr>\n",
       "  </thead>\n",
       "  <tbody>\n",
       "    <tr>\n",
       "      <th>0</th>\n",
       "      <td>\\n\\n[Brian:]\\nClose your eyes, make a wish\\nTh...</td>\n",
       "    </tr>\n",
       "    <tr>\n",
       "      <th>1</th>\n",
       "      <td>\\n\\r\\nSince you're not worth my love\\nI haven'...</td>\n",
       "    </tr>\n",
       "    <tr>\n",
       "      <th>2</th>\n",
       "      <td>\\n\\r\\nI don't want to be the one to say I'm go...</td>\n",
       "    </tr>\n",
       "    <tr>\n",
       "      <th>3</th>\n",
       "      <td>\\n\\r\\nSure I loved the dear money that shines ...</td>\n",
       "    </tr>\n",
       "    <tr>\n",
       "      <th>4</th>\n",
       "      <td>\\n\\r\\nBe honest with me dear whatever you do\\n...</td>\n",
       "    </tr>\n",
       "  </tbody>\n",
       "</table>\n",
       "</div>"
      ],
      "text/plain": [
       "                                              lyrics\n",
       "0  \\n\\n[Brian:]\\nClose your eyes, make a wish\\nTh...\n",
       "1  \\n\\r\\nSince you're not worth my love\\nI haven'...\n",
       "2  \\n\\r\\nI don't want to be the one to say I'm go...\n",
       "3  \\n\\r\\nSure I loved the dear money that shines ...\n",
       "4  \\n\\r\\nBe honest with me dear whatever you do\\n..."
      ]
     },
     "execution_count": 7,
     "metadata": {},
     "output_type": "execute_result"
    }
   ],
   "source": [
    "df = df_raw.drop(['Unnamed: 0', 'link', 'artist', 'song_name'], axis=1)\n",
    "df['lyrics'] = df['lyrics'].replace('/n', ' ')\n",
    "df['lyrics'] = df['lyrics'].replace('/n/n', ' ')\n",
    "df['lyrics'] = df['lyrics'].replace('\\n\\r\\n', ' ')\n",
    "df['lyrics'] = df['lyrics'].replace('\\n', ' ')\n",
    "\n",
    "df.head()"
   ]
  },
  {
   "cell_type": "code",
   "execution_count": 12,
   "id": "7b6add68",
   "metadata": {},
   "outputs": [],
   "source": [
    "df.to_csv('lyrics_airflow.csv')"
   ]
  },
  {
   "cell_type": "code",
   "execution_count": null,
   "id": "f8282e6e",
   "metadata": {},
   "outputs": [],
   "source": []
  }
 ],
 "metadata": {
  "kernelspec": {
   "display_name": "Python 3 (ipykernel)",
   "language": "python",
   "name": "python3"
  },
  "language_info": {
   "codemirror_mode": {
    "name": "ipython",
    "version": 3
   },
   "file_extension": ".py",
   "mimetype": "text/x-python",
   "name": "python",
   "nbconvert_exporter": "python",
   "pygments_lexer": "ipython3",
   "version": "3.9.7"
  }
 },
 "nbformat": 4,
 "nbformat_minor": 5
}
